{
  "nbformat": 4,
  "nbformat_minor": 0,
  "metadata": {
    "colab": {
      "provenance": [],
      "authorship_tag": "ABX9TyO/SVOmzlsdUIFnmgJY8ziF",
      "include_colab_link": true
    },
    "kernelspec": {
      "name": "python3",
      "display_name": "Python 3"
    },
    "language_info": {
      "name": "python"
    }
  },
  "cells": [
    {
      "cell_type": "markdown",
      "metadata": {
        "id": "view-in-github",
        "colab_type": "text"
      },
      "source": [
        "<a href=\"https://colab.research.google.com/github/schoudh96/MLAssetMang_DePrado/blob/main/Ch7DePrado.ipynb\" target=\"_parent\"><img src=\"https://colab.research.google.com/assets/colab-badge.svg\" alt=\"Open In Colab\"/></a>"
      ]
    },
    {
      "cell_type": "code",
      "execution_count": 12,
      "metadata": {
        "id": "k69BFYFVgY0U"
      },
      "outputs": [],
      "source": [
        "import matplotlib.pyplot as plt\n",
        "import numpy as np\n",
        "import seaborn as sns"
      ]
    },
    {
      "cell_type": "code",
      "source": [
        "from scipy.linalg import block_diag\n",
        "\n",
        "def formBlockMatrix(nblocks, bsize, bcorr):\n",
        "  block = np.ones([bsize, bsize])*bcorr\n",
        "  block[range(bsize), range(bsize)] = 1\n",
        "  corr = block_diag(*([block]*nblocks))\n",
        "  return corr\n",
        "\n"
      ],
      "metadata": {
        "id": "T0PsOuXriECM"
      },
      "execution_count": 13,
      "outputs": []
    },
    {
      "cell_type": "code",
      "source": [
        "corr0 = formBlockMatrix(2,2,0.5)\n",
        "eval, evec = np.linalg.eigh(corr0)\n",
        "print(max(eval)/min(eval))"
      ],
      "metadata": {
        "colab": {
          "base_uri": "https://localhost:8080/"
        },
        "id": "5ytJppWrkhIb",
        "outputId": "cce84ea3-3617-443b-9844-fd93227bab75"
      },
      "execution_count": 14,
      "outputs": [
        {
          "output_type": "stream",
          "name": "stdout",
          "text": [
            "3.0\n"
          ]
        }
      ]
    },
    {
      "cell_type": "code",
      "source": [
        "sns.heatmap(corr0, cmap = 'viridis')"
      ],
      "metadata": {
        "colab": {
          "base_uri": "https://localhost:8080/",
          "height": 452
        },
        "id": "e0nphp7glng8",
        "outputId": "3deaf3c2-de77-4fe2-805b-6462ae9fc625"
      },
      "execution_count": 15,
      "outputs": [
        {
          "output_type": "execute_result",
          "data": {
            "text/plain": [
              "<Axes: >"
            ]
          },
          "metadata": {},
          "execution_count": 15
        },
        {
          "output_type": "display_data",
          "data": {
            "text/plain": [
              "<Figure size 640x480 with 2 Axes>"
            ],
            "image/png": "[encoded data removed]"
          },
          "metadata": {}
        }
      ]
    },
    {
      "cell_type": "code",
      "source": [
        "corr02 = block_diag(formBlockMatrix(1,2,0.5))\n",
        "corr12 = formBlockMatrix(1,2,0)\n",
        "corr1 = block_diag(corr02, corr12)\n",
        "eval, evec = np.linalg.eigh(corr1)\n",
        "cond = eval.max()/eval.min()\n",
        "print(cond)"
      ],
      "metadata": {
        "colab": {
          "base_uri": "https://localhost:8080/"
        },
        "id": "dtaXE_EZmA7q",
        "outputId": "50feb421-8374-4a1b-dd06-be4bb5cc29d6"
      },
      "execution_count": 16,
      "outputs": [
        {
          "output_type": "stream",
          "name": "stdout",
          "text": [
            "3.0\n"
          ]
        }
      ]
    },
    {
      "cell_type": "code",
      "source": [
        "eval, evec"
      ],
      "metadata": {
        "colab": {
          "base_uri": "https://localhost:8080/"
        },
        "id": "dmI2Z3ytoOMq",
        "outputId": "f5973451-c825-4b9f-8dc9-ef8216c3878c"
      },
      "execution_count": 17,
      "outputs": [
        {
          "output_type": "execute_result",
          "data": {
            "text/plain": [
              "(array([0.5, 1. , 1. , 1.5]),\n",
              " array([[-0.70710678,  0.        ,  0.        ,  0.70710678],\n",
              "        [ 0.70710678,  0.        ,  0.        ,  0.70710678],\n",
              "        [ 0.        ,  1.        ,  0.        ,  0.        ],\n",
              "        [ 0.        ,  0.        ,  1.        ,  0.        ]]))"
            ]
          },
          "metadata": {},
          "execution_count": 17
        }
      ]
    },
    {
      "cell_type": "code",
      "source": [],
      "metadata": {
        "id": "hUs-T6ewoZ38"
      },
      "execution_count": 17,
      "outputs": []
    },
    {
      "cell_type": "code",
      "source": [
        "sns.heatmap(corr1, cmap = 'viridis')"
      ],
      "metadata": {
        "colab": {
          "base_uri": "https://localhost:8080/",
          "height": 452
        },
        "outputId": "05f0dd59-4ed6-4744-b58d-20586da7ceda",
        "id": "t7bwtUoPonaS"
      },
      "execution_count": 18,
      "outputs": [
        {
          "output_type": "execute_result",
          "data": {
            "text/plain": [
              "<Axes: >"
            ]
          },
          "metadata": {},
          "execution_count": 18
        },
        {
          "output_type": "display_data",
          "data": {
            "text/plain": [
              "<Figure size 640x480 with 2 Axes>"
            ],
            "image/png": "[encoded data removed]"
          },
          "metadata": {}
        }
      ]
    },
    {
      "cell_type": "code",
      "source": [
        "import pandas as pd\n",
        "from sklearn.cluster import KMeans\n",
        "from sklearn.metrics import silhouette_samples\n",
        "\n",
        "def clusterKMeansBase(corr, maxNumClusters = None, n_init = 10):\n",
        "  x, silh = ((1 - corr.fillna(0))/2)**0.5, pd.Series()\n",
        "  for init in range(n_init):\n",
        "    for i in range(2, maxNumClusters+1):\n",
        "      kmeans = KMeans(n_clusters = i, n_jobs = 1, n_init = 1)\n",
        "      kmeans = kmeans.fit(x)\n",
        "      silh_ = silhouette_samples(x, kmeans.labels_)\n",
        "      stat = (silh_.mean()/silh_.std(), silh.mean()/silh.std())\n",
        "      if np.isnan(stat[1]) or stat[0] >stat[1]:\n",
        "        silh, kmeans = silh_, kmeans\n",
        "\n",
        "  newIdx = np.argsort(kmeans.labels_)\n",
        "  corr1 = corr.iloc[newIdx]\n",
        "\n",
        "  corr1 = corr1.iloc[:, newIdx]\n",
        "  clstars = {i:corr.columns[np.where(kmeans.labels_ == i)[0]].tolist()\\\n",
        "             for i in np.unique(kmeans.labels_)}\n",
        "  silh = pd.Series(silh, index = x.index)\n",
        "  return corr1, clstars, silh"
      ],
      "metadata": {
        "id": "Dof9AI78oqAV"
      },
      "execution_count": 19,
      "outputs": []
    },
    {
      "cell_type": "code",
      "source": [
        "corr2, clstrs, silh = clusterKMeansBase(corr0, corr0[0]/2, 10)\n",
        "clstrs"
      ],
      "metadata": {
        "colab": {
          "base_uri": "https://localhost:8080/",
          "height": 280
        },
        "id": "vZHJjuVjD0he",
        "outputId": "d54a5213-0c75-4294-c363-f71d5589522c"
      },
      "execution_count": 22,
      "outputs": [
        {
          "output_type": "error",
          "ename": "AttributeError",
          "evalue": "'numpy.ndarray' object has no attribute 'fillna'",
          "traceback": [
            "\u001b[0;31m---------------------------------------------------------------------------\u001b[0m",
            "\u001b[0;31mAttributeError\u001b[0m                            Traceback (most recent call last)",
            "\u001b[0;32m<ipython-input-22-e2a430f2fdcd>\u001b[0m in \u001b[0;36m<cell line: 1>\u001b[0;34m()\u001b[0m\n\u001b[0;32m----> 1\u001b[0;31m \u001b[0mcorr2\u001b[0m\u001b[0;34m,\u001b[0m \u001b[0mclstrs\u001b[0m\u001b[0;34m,\u001b[0m \u001b[0msilh\u001b[0m \u001b[0;34m=\u001b[0m \u001b[0mclusterKMeansBase\u001b[0m\u001b[0;34m(\u001b[0m\u001b[0mcorr0\u001b[0m\u001b[0;34m,\u001b[0m \u001b[0mcorr0\u001b[0m\u001b[0;34m[\u001b[0m\u001b[0;36m0\u001b[0m\u001b[0;34m]\u001b[0m\u001b[0;34m/\u001b[0m\u001b[0;36m2\u001b[0m\u001b[0;34m,\u001b[0m \u001b[0;36m10\u001b[0m\u001b[0;34m)\u001b[0m\u001b[0;34m\u001b[0m\u001b[0;34m\u001b[0m\u001b[0m\n\u001b[0m\u001b[1;32m      2\u001b[0m \u001b[0mclstrs\u001b[0m\u001b[0;34m\u001b[0m\u001b[0;34m\u001b[0m\u001b[0m\n",
            "\u001b[0;32m<ipython-input-19-0e2e1759874c>\u001b[0m in \u001b[0;36mclusterKMeansBase\u001b[0;34m(corr, maxNumClusters, n_init)\u001b[0m\n\u001b[1;32m      4\u001b[0m \u001b[0;34m\u001b[0m\u001b[0m\n\u001b[1;32m      5\u001b[0m \u001b[0;32mdef\u001b[0m \u001b[0mclusterKMeansBase\u001b[0m\u001b[0;34m(\u001b[0m\u001b[0mcorr\u001b[0m\u001b[0;34m,\u001b[0m \u001b[0mmaxNumClusters\u001b[0m \u001b[0;34m=\u001b[0m \u001b[0;32mNone\u001b[0m\u001b[0;34m,\u001b[0m \u001b[0mn_init\u001b[0m \u001b[0;34m=\u001b[0m \u001b[0;36m10\u001b[0m\u001b[0;34m)\u001b[0m\u001b[0;34m:\u001b[0m\u001b[0;34m\u001b[0m\u001b[0;34m\u001b[0m\u001b[0m\n\u001b[0;32m----> 6\u001b[0;31m   \u001b[0mx\u001b[0m\u001b[0;34m,\u001b[0m \u001b[0msilh\u001b[0m \u001b[0;34m=\u001b[0m \u001b[0;34m(\u001b[0m\u001b[0;34m(\u001b[0m\u001b[0;36m1\u001b[0m \u001b[0;34m-\u001b[0m \u001b[0mcorr\u001b[0m\u001b[0;34m.\u001b[0m\u001b[0mfillna\u001b[0m\u001b[0;34m(\u001b[0m\u001b[0;36m0\u001b[0m\u001b[0;34m)\u001b[0m\u001b[0;34m)\u001b[0m\u001b[0;34m/\u001b[0m\u001b[0;36m2\u001b[0m\u001b[0;34m)\u001b[0m\u001b[0;34m**\u001b[0m\u001b[0;36m0.5\u001b[0m\u001b[0;34m,\u001b[0m \u001b[0mpd\u001b[0m\u001b[0;34m.\u001b[0m\u001b[0mSeries\u001b[0m\u001b[0;34m(\u001b[0m\u001b[0;34m)\u001b[0m\u001b[0;34m\u001b[0m\u001b[0;34m\u001b[0m\u001b[0m\n\u001b[0m\u001b[1;32m      7\u001b[0m   \u001b[0;32mfor\u001b[0m \u001b[0minit\u001b[0m \u001b[0;32min\u001b[0m \u001b[0mrange\u001b[0m\u001b[0;34m(\u001b[0m\u001b[0mn_init\u001b[0m\u001b[0;34m)\u001b[0m\u001b[0;34m:\u001b[0m\u001b[0;34m\u001b[0m\u001b[0;34m\u001b[0m\u001b[0m\n\u001b[1;32m      8\u001b[0m     \u001b[0;32mfor\u001b[0m \u001b[0mi\u001b[0m \u001b[0;32min\u001b[0m \u001b[0mrange\u001b[0m\u001b[0;34m(\u001b[0m\u001b[0;36m2\u001b[0m\u001b[0;34m,\u001b[0m \u001b[0mmaxNumClusters\u001b[0m\u001b[0;34m+\u001b[0m\u001b[0;36m1\u001b[0m\u001b[0;34m)\u001b[0m\u001b[0;34m:\u001b[0m\u001b[0;34m\u001b[0m\u001b[0;34m\u001b[0m\u001b[0m\n",
            "\u001b[0;31mAttributeError\u001b[0m: 'numpy.ndarray' object has no attribute 'fillna'"
          ]
        }
      ]
    },
    {
      "cell_type": "code",
      "source": [],
      "metadata": {
        "id": "Da6alySbEMBm"
      },
      "execution_count": null,
      "outputs": []
    }
  ]
}